{
 "cells": [
  {
   "cell_type": "code",
   "execution_count": 3,
   "metadata": {},
   "outputs": [],
   "source": [
    "def dpMakeChange(coinValueList, change, minCoins, coinUsed):\n",
    "    # 从1开始到change逐个计算硬币最少数\n",
    "    for cents in range(1,change+1): #(1,64)\n",
    "        # 1.初始化最大值\n",
    "        coinCount = cents\n",
    "        newCoin = 1\n",
    "        # 2.减去每个硬币，向后查最少硬币数，同时记录总的最少数\n",
    "        for j in [c for c in coinValueList if c <= cents]:\n",
    "            if minCoins[cents - j] + 1 < coinCount:\n",
    "                coinCount = minCoins[cents - j] + 1\n",
    "        # 3.得到当前最少硬币数，记录在表中\n",
    "        minCoins[cents] = coinCount #问题的最优解包含了更小规模子问题的最优解\n",
    "        coinUsed[cents] = newCoin\n",
    "    return minCoins[change]\n",
    "\n",
    "def printCoins(coinsUsed, change):\n",
    "    coin = change\n",
    "    while coin > 0:   \n",
    "        thisCoin = coinsUsed[coin]\n",
    "        print(thisCoin)\n",
    "        coin = coin - thisCoin\n",
    "\n",
    "change = 63\n",
    "clist = [1,5,10,21,25]\n",
    "coinUsed = [0] * (change + 1)\n",
    "coinCount = [0] * (change + 1)"
   ]
  },
  {
   "cell_type": "code",
   "execution_count": 7,
   "metadata": {},
   "outputs": [
    {
     "name": "stdout",
     "output_type": "stream",
     "text": [
      "---------\n",
      "cents: 1\n",
      "list:[1]\n",
      "[0, 1, 0, 0, 0, 0, 0, 0, 0, 0, 0]\n",
      "---------\n",
      "cents: 2\n",
      "list:[1]\n",
      "[0, 1, 2, 0, 0, 0, 0, 0, 0, 0, 0]\n",
      "---------\n",
      "cents: 3\n",
      "list:[1]\n",
      "[0, 1, 2, 3, 0, 0, 0, 0, 0, 0, 0]\n",
      "---------\n",
      "cents: 4\n",
      "list:[1]\n",
      "[0, 1, 2, 3, 4, 0, 0, 0, 0, 0, 0]\n",
      "---------\n",
      "cents: 5\n",
      "list:[1, 5]\n",
      "5: 1\n",
      "[0, 1, 2, 3, 4, 1, 0, 0, 0, 0, 0]\n",
      "---------\n",
      "cents: 6\n",
      "list:[1, 5]\n",
      "1: 2\n",
      "[0, 1, 2, 3, 4, 1, 2, 0, 0, 0, 0]\n",
      "---------\n",
      "cents: 7\n",
      "list:[1, 5]\n",
      "1: 3\n",
      "[0, 1, 2, 3, 4, 1, 2, 3, 0, 0, 0]\n",
      "---------\n",
      "cents: 8\n",
      "list:[1, 5]\n",
      "1: 4\n",
      "[0, 1, 2, 3, 4, 1, 2, 3, 4, 0, 0]\n",
      "---------\n",
      "cents: 9\n",
      "list:[1, 5]\n",
      "1: 5\n",
      "[0, 1, 2, 3, 4, 1, 2, 3, 4, 5, 0]\n",
      "---------\n",
      "cents: 10\n",
      "list:[1, 5, 10]\n",
      "1: 6\n",
      "5: 2\n",
      "10: 1\n",
      "[0, 1, 2, 3, 4, 1, 2, 3, 4, 5, 1]\n"
     ]
    }
   ],
   "source": [
    "change = 10\n",
    "coinValueList = [1,5,10,21,25]\n",
    "coinUsed = [0] * (change + 1)\n",
    "minCoins = [0] * (change + 1)\n",
    "\n",
    "for cents in range(1,change+1): #(1,64)\n",
    "    # 1.初始化最大值\n",
    "    print(\"---------\")\n",
    "    print(f\"cents: {cents}\")\n",
    "    coinCount = cents\n",
    "    newCoin = 1\n",
    "    # 2.减去每个硬币，向后查最少硬币数，同时记录总的最少数\n",
    "    list = [c for c in coinValueList if c <= cents]\n",
    "    print(f\"list:{list}\")\n",
    "    for j in list:\n",
    "        if minCoins[cents - j] + 1 < coinCount:\n",
    "            coinCount = minCoins[cents - j] + 1 #问题的最优解包含了更小规模子问题的最优解                              \n",
    "            print(f\"{j}: {coinCount}\")\n",
    "    minCoins[cents] = coinCount \n",
    "    coinUsed[cents] = newCoin\n",
    "    print(f\"{minCoins}\")"
   ]
  }
 ],
 "metadata": {
  "kernelspec": {
   "display_name": "base",
   "language": "python",
   "name": "python3"
  },
  "language_info": {
   "codemirror_mode": {
    "name": "ipython",
    "version": 3
   },
   "file_extension": ".py",
   "mimetype": "text/x-python",
   "name": "python",
   "nbconvert_exporter": "python",
   "pygments_lexer": "ipython3",
   "version": "3.9.13"
  },
  "orig_nbformat": 4,
  "vscode": {
   "interpreter": {
    "hash": "88279d2366fe020547cde40dd65aa0e3aa662a6ec1f3ca12d88834876c85e1a6"
   }
  }
 },
 "nbformat": 4,
 "nbformat_minor": 2
}
