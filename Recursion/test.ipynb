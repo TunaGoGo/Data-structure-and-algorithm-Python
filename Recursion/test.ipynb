{
 "cells": [
  {
   "cell_type": "code",
   "execution_count": 1,
   "metadata": {},
   "outputs": [],
   "source": [
    "mazeFile = open(r\"maze.txt\", 'r')"
   ]
  },
  {
   "cell_type": "code",
   "execution_count": 2,
   "metadata": {},
   "outputs": [],
   "source": [
    "rowsInMaze = 0\n",
    "columnsInMaze = 0\n",
    "mazelist = []\n",
    "\n",
    "rowsInMaze = 0\n",
    "for line in mazeFile:\n",
    "    rowList = []\n",
    "    col = 0\n",
    "    for ch in line[:-1]:\n",
    "        rowList.append(ch)\n",
    "        if ch == 'S':\n",
    "            startRow = rowsInMaze\n",
    "            startCol = col\n",
    "        col = col + 1\n",
    "    rowsInMaze = rowsInMaze + 1\n",
    "    mazelist.append(rowList)\n",
    "    columnsInMaze = len(rowList)"
   ]
  },
  {
   "cell_type": "code",
   "execution_count": 8,
   "metadata": {},
   "outputs": [
    {
     "name": "stdout",
     "output_type": "stream",
     "text": [
      "['+', '+', '+', '+', '+', '+', '+', '+', '+', '+', '+', '+', '+', '+', '+', '+', '+', '+', '+', '+', '+']\n"
     ]
    }
   ],
   "source": [
    "for line in mazeFile:\n",
    "    rowList = []\n",
    "    col = 0\n",
    "    for ch in line:\n",
    "        rowList.append(ch)\n",
    "print(rowList)"
   ]
  }
 ],
 "metadata": {
  "kernelspec": {
   "display_name": "base",
   "language": "python",
   "name": "python3"
  },
  "language_info": {
   "codemirror_mode": {
    "name": "ipython",
    "version": 3
   },
   "file_extension": ".py",
   "mimetype": "text/x-python",
   "name": "python",
   "nbconvert_exporter": "python",
   "pygments_lexer": "ipython3",
   "version": "3.9.13"
  },
  "orig_nbformat": 4,
  "vscode": {
   "interpreter": {
    "hash": "88279d2366fe020547cde40dd65aa0e3aa662a6ec1f3ca12d88834876c85e1a6"
   }
  }
 },
 "nbformat": 4,
 "nbformat_minor": 2
}
